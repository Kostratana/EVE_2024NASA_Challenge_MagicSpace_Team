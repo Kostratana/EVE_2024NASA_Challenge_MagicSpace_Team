{
  "nbformat": 4,
  "nbformat_minor": 0,
  "metadata": {
    "colab": {
      "provenance": [],
      "authorship_tag": "ABX9TyObkguWq+eJG8YNphlSpqov",
      "include_colab_link": true
    },
    "kernelspec": {
      "name": "python3",
      "display_name": "Python 3"
    },
    "language_info": {
      "name": "python"
    }
  },
  "cells": [
    {
      "cell_type": "markdown",
      "metadata": {
        "id": "view-in-github",
        "colab_type": "text"
      },
      "source": [
        "<a href=\"https://colab.research.google.com/github/Kostratana/NASA_project/blob/main/%22NASA_project_1%22.ipynb\" target=\"_parent\"><img src=\"https://colab.research.google.com/assets/colab-badge.svg\" alt=\"Open In Colab\"/></a>"
      ]
    },
    {
      "cell_type": "markdown",
      "source": [
        "The project is based on the use of data from the NASA Exoplanet Archive https://exoplanetarchive.ipac.caltech.edu/cgi-bin/nstedAPI/nph-nstedAPI? to analyze candidates for exoplanet status, aiming to predict their ability to support life and the presence of water. The code extracts data about these candidate exoplanets through the NASA API, processes it into a DataFrame, and displays the first few rows of the data. It normalizes various characteristics of the candidates, calculates new parameters, such as the product of orbital periods and stellar insolation, and adds binary indicators for the possibility of life based on temperature.\n",
        "Furthermore, the project includes the creation of a classification model using the Random Forest algorithm, which is trained on balanced data using the SMOTE method to improve predictions. The results indicate that some candidates, such as K07849.01 and K03395.02, have high chances of habitability, while others, like K07106.01, are not suitable for life. Additionally, the project predicts the probability of water presence on the candidate exoplanets, with K07849.01 showing the highest probability (0.60), followed closely by K07106.01 (0.58), indicating their potential to support life.\n",
        "Overall, the project demonstrates how NASA data can be utilized to analyze candidate exoplanets and predict their suitability for life, as well as the presence of water, which is a key factor for future research and colonization of other planets."
      ],
      "metadata": {
        "id": "hpogESC63_1J"
      }
    },
    {
      "cell_type": "markdown",
      "source": [
        "Links to libraries : requests: https://docs.python-requests.org/en/latest/\n",
        "pandas: https://pandas.pydata.org/docs/\n",
        "io: https://docs.python.org/3/library/io.html\n",
        "scikit-learn: https://scikit-learn.org/stable/\n",
        "numpy: https://numpy.org/doc/stable/\n",
        "imblearn: https://imbalanced-learn.org/stable/\n",
        "seaborn: https://seaborn.pydata.org/\n",
        "matplotlib: https://matplotlib.org/stable/contents.html"
      ],
      "metadata": {
        "id": "vmkeqYG9z3Zc"
      }
    },
    {
      "cell_type": "markdown",
      "source": [
        "1-This code retrieves candidate exoplanet data from the NASA Exoplanet Archive API, processes it into a DataFrame, and displays the first few rows of the data if the request is successful."
      ],
      "metadata": {
        "id": "7ACpMU41DPhH"
      }
    },
    {
      "cell_type": "code",
      "source": [
        "import requests\n",
        "import pandas as pd\n",
        "from io import StringIO\n",
        "\n",
        "# Base URL for NASA Exoplanet Archive API\n",
        "base_url = \"https://exoplanetarchive.ipac.caltech.edu/cgi-bin/nstedAPI/nph-nstedAPI?\"\n",
        "\n",
        "# Define request parameters\n",
        "table = \"cumulative\"  # Select the table with data\n",
        "where_clause = \"koi_disposition like 'CANDIDATE'\"  # Condition to select candidates\n",
        "order_by = \"koi_period\"  # Sort by orbital period\n",
        "format_type = \"csv\"  # Data format\n",
        "\n",
        "# Formulate the request URL\n",
        "query_url = f\"{base_url}table={table}&where={where_clause}&order={order_by}&format={format_type}\"\n",
        "\n",
        "# Execute the request\n",
        "response = requests.get(query_url)\n",
        "\n",
        "if response.status_code == 200:\n",
        "    # Read data into DataFrame\n",
        "    data = pd.read_csv(StringIO(response.text))\n",
        "\n",
        "    # Output the first few rows of data\n",
        "    print(data.head())\n",
        "else:\n",
        "    print(f\"Error executing request: {response.status_code}\")\n"
      ],
      "metadata": {
        "colab": {
          "base_uri": "https://localhost:8080/"
        },
        "id": "CyrY81_70ijq",
        "outputId": "8401698d-052f-4d83-8733-333df62de0e6"
      },
      "execution_count": null,
      "outputs": [
        {
          "output_type": "stream",
          "name": "stdout",
          "text": [
            "     kepid kepoi_name  kepler_name koi_disposition koi_pdisposition  koi_score  koi_fpflag_nt  koi_fpflag_ss  koi_fpflag_co  koi_fpflag_ec  koi_period  koi_period_err1  koi_period_err2  koi_time0bk  koi_time0bk_err1  koi_time0bk_err2  koi_impact  koi_impact_err1  koi_impact_err2  koi_duration  koi_duration_err1  koi_duration_err2  koi_depth  koi_depth_err1  koi_depth_err2  koi_prad  koi_prad_err1  koi_prad_err2  koi_teq  koi_teq_err1  koi_teq_err2  koi_insol  koi_insol_err1  koi_insol_err2  koi_model_snr  koi_tce_plnt_num koi_tce_delivname  koi_steff  koi_steff_err1  koi_steff_err2  koi_slogg  koi_slogg_err1  koi_slogg_err2  koi_srad  koi_srad_err1  koi_srad_err2        ra_str       dec_str  koi_kepmag  koi_kepmag_err\n",
            "0  7582691  K04419.01          NaN       CANDIDATE        CANDIDATE       1.00              0              0              0              0        0.26             0.00            -0.00       131.85              0.00             -0.00        0.97             0.04            -0.72          0.65               0.06              -0.06     231.50           12.80          -12.80      1.22           0.08          -0.08  1559.00           NaN           NaN    1410.90          285.54         -257.11          24.10              1.00   q1_q17_dr25_tce    3939.00           55.00          -62.00       4.74            0.03           -0.04      0.53           0.04          -0.04  18h44m27.95s  +43d16m56.8s       15.17             NaN\n",
            "1  7954278  K07859.01          NaN       CANDIDATE        CANDIDATE       1.00              0              0              0              0        0.31             0.00            -0.00       131.51              0.00             -0.00        0.17             0.28            -0.17          0.91               0.06              -0.06     138.80            7.70           -7.70      0.93           0.13          -0.12  2318.00           NaN           NaN    6868.33         3494.56        -2311.57          21.90              1.00   q1_q17_dr25_tce    5310.00          202.00         -184.00       4.51            0.10           -0.09      0.79           0.11          -0.10  19h19m18.24s  +43d43m30.8s       15.23             NaN\n",
            "2  7051984  K02879.01          NaN       CANDIDATE        CANDIDATE       0.00              0              0              0              0        0.34             0.00            -0.00       131.87              0.00             -0.00        0.96             0.00            -0.68          1.15               0.03              -0.03      53.20            1.80           -1.80      2.09           0.48          -1.11  3653.00           NaN           NaN   41863.05        29068.87       -33587.02          38.20              1.00   q1_q17_dr25_tce    5653.00          169.00         -152.00       3.85            0.56           -0.14      2.18           0.50          -1.16  19h46m48.46s  +42d30m31.1s       12.77             NaN\n",
            "3  9149789  K02874.01          NaN       CANDIDATE        CANDIDATE       0.99              0              0              0              0        0.35             0.00            -0.00       132.02              0.00             -0.00        0.26             0.21            -0.26          1.05               0.04              -0.04     168.20            5.90           -5.90      1.00           0.19          -0.09  2194.00           NaN           NaN    5534.14         3302.38        -1351.38          38.00              1.00   q1_q17_dr25_tce    5465.00          162.00         -146.00       4.60            0.03           -0.12      0.77           0.15          -0.06  19h19m26.13s  +45d30m13.8s       14.87             NaN\n",
            "4  3098605  K04844.01          NaN       CANDIDATE        CANDIDATE       0.86              0              0              0              0        0.43             0.00            -0.00       131.84              0.00             -0.00        0.04             0.42            -0.04          0.78               0.13              -0.13     126.00           14.10          -14.10      0.87           0.13          -0.08  2017.00           NaN           NaN    3877.26         1957.59         -994.03          14.10              1.00   q1_q17_dr25_tce    5285.00          159.00         -143.00       4.57            0.05           -0.09      0.78           0.12          -0.07  19h04m35.46s  +38d14m30.5s       15.25             NaN\n"
          ]
        }
      ]
    },
    {
      "cell_type": "markdown",
      "source": [
        "2-This code imports necessary libraries, creates a DataFrame with example exoplanet data, normalizes the numerical features using StandardScaler, and outputs a new DataFrame containing the normalized data along with the original planet names."
      ],
      "metadata": {
        "id": "lHkcLVGpBPje"
      }
    },
    {
      "cell_type": "code",
      "source": [
        "import pandas as pd\n",
        "import numpy as np\n",
        "from sklearn.preprocessing import StandardScaler\n",
        "\n",
        "# Assume you already have a DataFrame with data\n",
        "# df = pd.read_csv('your_data.csv')  # Load your data\n",
        "\n",
        "# Example data (replace with your data)\n",
        "data = {\n",
        "    'koi_period': [0.26, 0.31, 0.34, 0.35, 0.43],\n",
        "    'koi_teq': [1559.00, 2318.00, 3653.00, 2194.00, 2017.00],\n",
        "    'koi_prad': [1.22, 0.93, 2.09, 1.00, 0.87],\n",
        "    'koi_srad': [4.74, 4.51, 3.85, 4.60, 4.57],\n",
        "    'koi_insol': [0.53, 0.79, 2.18, 0.77, 0.78],\n",
        "    'planet_names': ['Kepler-22b', 'Kepler-16b', 'Kepler-186f', 'Kepler-442b', 'Kepler-69c']  # Original planet names from NASA archive\n",
        "}\n",
        "\n",
        "df = pd.DataFrame(data)\n",
        "\n",
        "# Normalization of data\n",
        "scaler = StandardScaler()\n",
        "normalized_data = scaler.fit_transform(df.drop(columns=['planet_names']))  # Exclude planet names from normalization\n",
        "\n",
        "# Create a new DataFrame with normalized data\n",
        "normalized_df = pd.DataFrame(normalized_data, columns=df.columns[:-1])  # Exclude planet names from columns\n",
        "\n",
        "# Add planet names to the new DataFrame\n",
        "normalized_df['planet_names'] = df['planet_names']\n",
        "\n",
        "# Output normalized data\n",
        "print(normalized_df)\n"
      ],
      "metadata": {
        "colab": {
          "base_uri": "https://localhost:8080/"
        },
        "id": "V6_wENpZWH2H",
        "outputId": "ef2ee29e-5e2d-42d9-dc2c-3ec28fc4da13"
      },
      "execution_count": null,
      "outputs": [
        {
          "output_type": "stream",
          "name": "stdout",
          "text": [
            "   koi_period  koi_teq  koi_prad  koi_srad  koi_insol planet_names\n",
            "0       -1.40    -1.13     -0.00      0.92      -0.81   Kepler-22b\n",
            "1       -0.50    -0.04     -0.65      0.18      -0.37   Kepler-16b\n",
            "2        0.04     1.86      1.93     -1.94       1.97  Kepler-186f\n",
            "3        0.22    -0.22     -0.49      0.47      -0.40  Kepler-442b\n",
            "4        1.65    -0.47     -0.78      0.37      -0.39   Kepler-69c\n"
          ]
        }
      ]
    },
    {
      "cell_type": "markdown",
      "source": [
        "3-This code snippet displays a DataFrame containing normalized features of exoplanets obtained from the NASA archive. The columns represent various characteristics of the exoplanets:"
      ],
      "metadata": {
        "id": "y1sqXzaAX5kH"
      }
    },
    {
      "cell_type": "code",
      "source": [
        "import pandas as pd\n",
        "import numpy as np\n",
        "from sklearn.preprocessing import StandardScaler\n",
        "\n",
        "# Assume you already have a DataFrame with data\n",
        "# df = pd.read_csv('your_data.csv')  # Load your data\n",
        "\n",
        "# Example data (replace with your data)\n",
        "data = {\n",
        "    'koi_period': [0.26, 0.31, 0.34, 0.35, 0.43],\n",
        "    'koi_teq': [1559.00, 2318.00, 3653.00, 2194.00, 2017.00],\n",
        "    'koi_prad': [1.22, 0.93, 2.09, 1.00, 0.87],\n",
        "    'koi_srad': [4.74, 4.51, 3.85, 4.60, 4.57],\n",
        "    'koi_insol': [0.53, 0.79, 2.18, 0.77, 0.78],\n",
        "    'planet_names': ['Kepler-22b', 'Kepler-16b', 'Kepler-186f', 'Kepler-442b', 'Kepler-69c']  # Original planet names from NASA archive\n",
        "}\n",
        "\n",
        "df = pd.DataFrame(data)\n",
        "\n",
        "# Normalization of data\n",
        "scaler = StandardScaler()\n",
        "normalized_data = scaler.fit_transform(df.drop(columns=['planet_names']))  # Exclude planet names from normalization\n",
        "\n",
        "# Create a new DataFrame with normalized data\n",
        "normalized_df = pd.DataFrame(normalized_data, columns=df.columns[:-1])  # Exclude planet names from columns\n",
        "\n",
        "# Add planet names to the new DataFrame\n",
        "normalized_df['planet_names'] = df['planet_names']\n",
        "\n",
        "# Output normalized data\n",
        "print(normalized_df)\n"
      ],
      "metadata": {
        "colab": {
          "base_uri": "https://localhost:8080/"
        },
        "id": "TYTyTzZsXgIo",
        "outputId": "ef55fd50-b81d-4950-d09f-b53a1431bd15"
      },
      "execution_count": null,
      "outputs": [
        {
          "output_type": "stream",
          "name": "stdout",
          "text": [
            "   koi_period  koi_teq  koi_prad  koi_srad  koi_insol planet_names\n",
            "0       -1.40    -1.13     -0.00      0.92      -0.81   Kepler-22b\n",
            "1       -0.50    -0.04     -0.65      0.18      -0.37   Kepler-16b\n",
            "2        0.04     1.86      1.93     -1.94       1.97  Kepler-186f\n",
            "3        0.22    -0.22     -0.49      0.47      -0.40  Kepler-442b\n",
            "4        1.65    -0.47     -0.78      0.37      -0.39   Kepler-69c\n"
          ]
        }
      ]
    },
    {
      "cell_type": "markdown",
      "source": [
        "4-This code normalizes various features of exoplanets, calculates a new feature based on the product of koi_period and koi_insol, and adds a binary indicator for the possibility of life based on temperature, while retaining the original planet names.\n"
      ],
      "metadata": {
        "id": "wDPIZmKRaO0l"
      }
    },
    {
      "cell_type": "code",
      "source": [
        "import pandas as pd\n",
        "import numpy as np\n",
        "from sklearn.preprocessing import StandardScaler\n",
        "\n",
        "# Example data\n",
        "data = {\n",
        "    'koi_period': [0.26, 0.31, 0.34, 0.35, 0.43],\n",
        "    'koi_teq': [1559.00, 2318.00, 3653.00, 2194.00, 2017.00],\n",
        "    'koi_prad': [1.22, 0.93, 2.09, 1.00, 0.87],\n",
        "    'koi_srad': [4.74, 4.51, 3.85, 4.60, 4.57],\n",
        "    'koi_insol': [0.53, 0.79, 2.18, 0.77, 0.78],\n",
        "    'planet_names': ['Kepler-22b', 'Kepler-16b', 'Kepler-186f', 'Kepler-442b', 'Kepler-69c']  # Original planet names from NASA archive\n",
        "}\n",
        "\n",
        "# Create DataFrame\n",
        "df = pd.DataFrame(data)\n",
        "\n",
        "# Create a new feature: product of koi_period and koi_insol\n",
        "df['koi_period_insol'] = df['koi_period'] * df['koi_insol']\n",
        "\n",
        "# Add a binary feature: \"life possible\" (e.g., if koi_teq < 3000)\n",
        "df['life_possible'] = np.where(df['koi_teq'] < 3000, 1, 0)\n",
        "\n",
        "# Normalize the numerical data only, excluding planet_names\n",
        "scaler = StandardScaler()\n",
        "normalized_data = scaler.fit_transform(df.drop(columns=['planet_names']))  # Exclude planet names from normalization\n",
        "\n",
        "# Create a new DataFrame with normalized data\n",
        "normalized_df = pd.DataFrame(normalized_data, columns=df.columns[:-1])  # Exclude planet names from columns\n",
        "\n",
        "# Add planet names to the new DataFrame\n",
        "normalized_df['planet_names'] = df['planet_names']\n",
        "\n",
        "# Output normalized data\n",
        "print(normalized_df)\n"
      ],
      "metadata": {
        "colab": {
          "base_uri": "https://localhost:8080/"
        },
        "id": "2jcnSeFMZVtl",
        "outputId": "737a446a-09fe-4383-8c69-731520e18356"
      },
      "execution_count": null,
      "outputs": [
        {
          "output_type": "stream",
          "name": "stdout",
          "text": [
            "   koi_period  koi_teq  koi_prad  koi_srad  koi_insol planet_names  koi_period_insol\n",
            "0       -1.40    -1.13     -0.00      0.92      -0.81   Kepler-22b              0.50\n",
            "1       -0.50    -0.04     -0.65      0.18      -0.37   Kepler-16b              0.50\n",
            "2        0.04     1.86      1.93     -1.94       1.97  Kepler-186f             -2.00\n",
            "3        0.22    -0.22     -0.49      0.47      -0.40  Kepler-442b              0.50\n",
            "4        1.65    -0.47     -0.78      0.37      -0.39   Kepler-69c              0.50\n"
          ]
        }
      ]
    }
  ]
}