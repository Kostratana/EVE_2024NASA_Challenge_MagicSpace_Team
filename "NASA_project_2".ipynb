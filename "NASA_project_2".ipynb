{
  "nbformat": 4,
  "nbformat_minor": 0,
  "metadata": {
    "colab": {
      "provenance": [],
      "authorship_tag": "ABX9TyP2lEl++0yJKYyowFK3ZSQr",
      "include_colab_link": true
    },
    "kernelspec": {
      "name": "python3",
      "display_name": "Python 3"
    },
    "language_info": {
      "name": "python"
    }
  },
  "cells": [
    {
      "cell_type": "markdown",
      "metadata": {
        "id": "view-in-github",
        "colab_type": "text"
      },
      "source": [
        "<a href=\"https://colab.research.google.com/github/Kostratana/NASA_project/blob/main/%22NASA_project_2%22.ipynb\" target=\"_parent\"><img src=\"https://colab.research.google.com/assets/colab-badge.svg\" alt=\"Open In Colab\"/></a>"
      ]
    },
    {
      "cell_type": "markdown",
      "source": [
        "5-This code demonstrates how to create a DataFrame from star names, apply One-Hot Encoding and Label Encoding to the star types, and output the results.\n"
      ],
      "metadata": {
        "id": "jb4oHI5fcmjz"
      }
    },
    {
      "cell_type": "code",
      "source": [
        "import pandas as pd\n",
        "\n",
        "# Example data\n",
        "data = {\n",
        "    'star_type': ['Kepler-22b', 'Kepler-16b', 'Kepler-186f', 'Kepler-442b', 'Kepler-69c']  # Original star names from NASA archive\n",
        "}\n",
        "\n",
        "# Create DataFrame\n",
        "df = pd.DataFrame(data)\n",
        "\n",
        "# One-Hot Encoding\n",
        "df_one_hot = pd.get_dummies(df, columns=['star_type'], prefix='star_type')\n",
        "\n",
        "# Label Encoding\n",
        "df['star_type_encoded'] = df['star_type'].astype('category').cat.codes\n",
        "\n",
        "# Output results\n",
        "print(\"Data with One-Hot Encoding:\")\n",
        "print(df_one_hot)\n",
        "\n",
        "print(\"\\nData with Label Encoding:\")\n",
        "print(df)\n",
        "\n"
      ],
      "metadata": {
        "colab": {
          "base_uri": "https://localhost:8080/"
        },
        "id": "cqmXwS9MblVk",
        "outputId": "eea00b96-c2e1-4425-88f4-f78ef5c1462f"
      },
      "execution_count": null,
      "outputs": [
        {
          "output_type": "stream",
          "name": "stdout",
          "text": [
            "Data with One-Hot Encoding:\n",
            "   star_type_Kepler-16b  star_type_Kepler-186f  star_type_Kepler-22b  star_type_Kepler-442b  star_type_Kepler-69c\n",
            "0                 False                  False                  True                  False                 False\n",
            "1                  True                  False                 False                  False                 False\n",
            "2                 False                   True                 False                  False                 False\n",
            "3                 False                  False                 False                   True                 False\n",
            "4                 False                  False                 False                  False                  True\n",
            "\n",
            "Data with Label Encoding:\n",
            "     star_type  star_type_encoded\n",
            "0   Kepler-22b                  2\n",
            "1   Kepler-16b                  0\n",
            "2  Kepler-186f                  1\n",
            "3  Kepler-442b                  3\n",
            "4   Kepler-69c                  4\n"
          ]
        }
      ]
    },
    {
      "cell_type": "markdown",
      "source": [
        "6- This code creates a DataFrame from a list of planet names, applies One-Hot Encoding and Label Encoding to convert the categorical data into numerical format, and then outputs the results for both encoding methods."
      ],
      "metadata": {
        "id": "qGlo_2c9d5I9"
      }
    },
    {
      "cell_type": "code",
      "source": [
        "import pandas as pd\n",
        "\n",
        "# Example data\n",
        "data = {\n",
        "    'planet_names': ['Kepler-22b', 'Kepler-16b', 'Kepler-186f', 'Kepler-442b', 'Kepler-69c']  # Original planet names from NASA archive\n",
        "}\n",
        "\n",
        "# Create DataFrame\n",
        "df = pd.DataFrame(data)\n",
        "\n",
        "# One-Hot Encoding\n",
        "df_one_hot = pd.get_dummies(df, columns=['planet_names'], prefix='planet_names')\n",
        "\n",
        "# Label Encoding\n",
        "df['planet_names_encoded'] = df['planet_names'].astype('category').cat.codes\n",
        "\n",
        "# Output results\n",
        "print(\"Data with One-Hot Encoding:\")\n",
        "print(df_one_hot)\n",
        "\n",
        "print(\"\\nData with Label Encoding:\")\n",
        "print(df)\n"
      ],
      "metadata": {
        "colab": {
          "base_uri": "https://localhost:8080/"
        },
        "id": "FtrkwHnadTAB",
        "outputId": "276ae743-5de6-4b2f-afe9-042ff9f54b8e"
      },
      "execution_count": null,
      "outputs": [
        {
          "output_type": "stream",
          "name": "stdout",
          "text": [
            "Data with One-Hot Encoding:\n",
            "   planet_names_Kepler-16b  planet_names_Kepler-186f  planet_names_Kepler-22b  planet_names_Kepler-442b  planet_names_Kepler-69c\n",
            "0                    False                     False                     True                     False                    False\n",
            "1                     True                     False                    False                     False                    False\n",
            "2                    False                      True                    False                     False                    False\n",
            "3                    False                     False                    False                      True                    False\n",
            "4                    False                     False                    False                     False                     True\n",
            "\n",
            "Data with Label Encoding:\n",
            "  planet_names  planet_names_encoded\n",
            "0   Kepler-22b                     2\n",
            "1   Kepler-16b                     0\n",
            "2  Kepler-186f                     1\n",
            "3  Kepler-442b                     3\n",
            "4   Kepler-69c                     4\n"
          ]
        }
      ]
    },
    {
      "cell_type": "markdown",
      "source": [
        "7-This code creates a DataFrame from example data, splits it into features and labels, applies SMOTE for oversampling to balance the classes, trains a Random Forest classifier with adjusted class weights, and evaluates the model's performance using a classification report."
      ],
      "metadata": {
        "id": "VwaddhDPe1-C"
      }
    },
    {
      "cell_type": "code",
      "source": [
        "import pandas as pd\n",
        "import numpy as np\n",
        "from sklearn.model_selection import train_test_split\n",
        "from sklearn.ensemble import RandomForestClassifier\n",
        "from sklearn.metrics import classification_report\n",
        "from imblearn.over_sampling import SMOTE\n",
        "from sklearn.utils import class_weight\n",
        "\n",
        "# Example data\n",
        "data = {\n",
        "    'factor_1': [1, 2, 3, 4, 5, 6, 7, 8, 9, 10],\n",
        "    'factor_2': [5, 6, 7, 8, 9, 10, 11, 12, 13, 14],\n",
        "    'label': ['life possible', 'life possible', 'life possible',\n",
        "              'life impossible', 'life impossible',\n",
        "              'life impossible', 'life impossible',\n",
        "              'life impossible', 'life impossible',\n",
        "              'life impossible']\n",
        "}\n",
        "\n",
        "# Create DataFrame\n",
        "df = pd.DataFrame(data)\n",
        "\n",
        "# Split data into features and labels\n",
        "X = df[['factor_1', 'factor_2']]\n",
        "y = df['label']\n",
        "\n",
        "# Split into training and testing sets while maintaining class balance\n",
        "X_train, X_test, y_train, y_test = train_test_split(X, y, test_size=0.2, stratify=y, random_state=42)\n",
        "\n",
        "# Check class balance before oversampling\n",
        "print(\"Before oversampling:\")\n",
        "print(y_train.value_counts())\n",
        "\n",
        "# Oversample using SMOTE\n",
        "smote = SMOTE(random_state=42, k_neighbors=1)  # Reduce the number of neighbors to 1\n",
        "X_resampled, y_resampled = smote.fit_resample(X_train, y_train)\n",
        "\n",
        "# Check class balance after oversampling\n",
        "print(\"\\nAfter oversampling:\")\n",
        "print(y_resampled.value_counts())\n",
        "\n",
        "# Train model with class weight adjustment\n",
        "# Use unique labels from y_train\n",
        "unique_classes = np.unique(y_train)\n",
        "class_weights = class_weight.compute_class_weight('balanced', classes=unique_classes, y=y_train)\n",
        "\n",
        "# Create a dictionary for class weights\n",
        "class_weight_dict = {label: weight for label, weight in zip(unique_classes, class_weights)}\n",
        "\n",
        "model = RandomForestClassifier(class_weight=class_weight_dict, random_state=42)\n",
        "model.fit(X_resampled, y_resampled)\n",
        "\n",
        "# Predictions and model evaluation\n",
        "y_pred = model.predict(X_test)\n",
        "print(\"\\nClassification report:\")\n",
        "print(classification_report(y_test, y_pred))\n"
      ],
      "metadata": {
        "colab": {
          "base_uri": "https://localhost:8080/"
        },
        "id": "YB2qcsune9WP",
        "outputId": "1f3de981-be16-43aa-e5c2-45347add84c2"
      },
      "execution_count": null,
      "outputs": [
        {
          "output_type": "stream",
          "name": "stdout",
          "text": [
            "Before oversampling:\n",
            "label\n",
            "life impossible    6\n",
            "life possible      2\n",
            "Name: count, dtype: int64\n",
            "\n",
            "After oversampling:\n",
            "label\n",
            "life impossible    6\n",
            "life possible      6\n",
            "Name: count, dtype: int64\n",
            "\n",
            "Classification report:\n",
            "                 precision    recall  f1-score   support\n",
            "\n",
            "life impossible       1.00      1.00      1.00         1\n",
            "  life possible       1.00      1.00      1.00         1\n",
            "\n",
            "       accuracy                           1.00         2\n",
            "      macro avg       1.00      1.00      1.00         2\n",
            "   weighted avg       1.00      1.00      1.00         2\n",
            "\n"
          ]
        }
      ]
    },
    {
      "cell_type": "markdown",
      "source": [
        "8-This code analyzes the relationship between factors and the possibility of life on different planets using a correlation matrix, applies SMOTE for class balancing, trains a Random Forest classifier, and evaluates the model's performance with a classification report.\n"
      ],
      "metadata": {
        "id": "oepgyKaZg2H-"
      }
    },
    {
      "cell_type": "code",
      "source": [
        "import pandas as pd\n",
        "import numpy as np\n",
        "import seaborn as sns\n",
        "import matplotlib.pyplot as plt\n",
        "from sklearn.model_selection import train_test_split\n",
        "from sklearn.ensemble import RandomForestClassifier\n",
        "from sklearn.metrics import classification_report\n",
        "from imblearn.over_sampling import SMOTE\n",
        "from sklearn.utils import class_weight\n",
        "\n",
        "# Example data for planet names\n",
        "planet_data = {\n",
        "    'planet_names': ['Kepler-22b', 'Kepler-16b', 'Kepler-186f', 'Kepler-442b', 'Kepler-69c']  # Original planet names from NASA archive\n",
        "}\n",
        "\n",
        "# Create DataFrame for planet names\n",
        "planet_df = pd.DataFrame(planet_data)\n",
        "\n",
        "# Example data for factors and labels\n",
        "data = {\n",
        "    'factor_1': [1, 2, 3, 4, 5, 6, 7, 8, 9, 10],\n",
        "    'factor_2': [5, 6, 7, 8, 9, 10, 11, 12, 13, 14],\n",
        "    'label': ['life possible', 'life possible', 'life possible',\n",
        "              'life impossible', 'life impossible',\n",
        "              'life impossible', 'life impossible',\n",
        "              'life impossible', 'life impossible',\n",
        "              'life impossible']\n",
        "}\n",
        "\n",
        "# Create DataFrame for factors and labels\n",
        "df = pd.DataFrame(data)\n",
        "\n",
        "# Convert class labels to numeric format\n",
        "df['label_numeric'] = df['label'].map({'life possible': 1, 'life impossible': 0})\n",
        "\n",
        "# Calculate correlation only for numeric columns\n",
        "correlation_matrix = df[['factor_1', 'factor_2', 'label_numeric']].corr()\n",
        "\n",
        "# Visualize the correlation matrix\n",
        "plt.figure(figsize=(8, 6))\n",
        "sns.heatmap(correlation_matrix, annot=True, cmap='coolwarm', fmt=\".2f\", square=True, cbar_kws={\"shrink\": .8})\n",
        "plt.title('Correlation Matrix')\n",
        "plt.show()\n",
        "\n",
        "# Split data into features and labels\n",
        "X = df[['factor_1', 'factor_2']]\n",
        "y = df['label']\n",
        "\n",
        "# Split into training and testing sets while maintaining class balance\n",
        "X_train, X_test, y_train, y_test = train_test_split(X, y, test_size=0.2, stratify=y, random_state=42)\n",
        "\n",
        "# Check class balance before oversampling\n",
        "print(\"Before oversampling:\")\n",
        "print(y_train.value_counts())\n",
        "\n",
        "# Oversample using SMOTE\n",
        "smote = SMOTE(random_state=42, k_neighbors=1)  # Reduce the number of neighbors to 1\n",
        "X_resampled, y_resampled = smote.fit_resample(X_train, y_train)\n",
        "\n",
        "# Check class balance after oversampling\n",
        "print(\"\\nAfter oversampling:\")\n",
        "print(y_resampled.value_counts())\n",
        "\n",
        "# Train model with class weight adjustment\n",
        "# Use unique labels from y_train\n",
        "unique_classes = np.unique(y_train)\n",
        "class_weights = class_weight.compute_class_weight('balanced', classes=unique_classes, y=y_train)\n",
        "\n",
        "# Create a dictionary for class weights\n",
        "class_weight_dict = {label: weight for label, weight in zip(unique_classes, class_weights)}\n",
        "\n",
        "model = RandomForestClassifier(class_weight=class_weight_dict, random_state=42)\n",
        "model.fit(X_resampled, y_resampled)\n",
        "\n",
        "# Predictions and model evaluation\n",
        "y_pred = model.predict(X_test)\n",
        "print(\"\\nClassification report:\")\n",
        "print(classification_report(y_test, y_pred))\n"
      ],
      "metadata": {
        "colab": {
          "base_uri": "https://localhost:8080/",
          "height": 938
        },
        "id": "xN-NOcMTgWEm",
        "outputId": "bea9ba80-6b2b-44ed-dd42-0d5e63cccd64"
      },
      "execution_count": null,
      "outputs": [
        {
          "output_type": "display_data",
          "data": {
            "text/plain": [
              "<Figure size 800x600 with 2 Axes>"
            ],
            "image/png": "[encoded data removed]"
          },
          "metadata": {}
        },
        {
          "output_type": "stream",
          "name": "stdout",
          "text": [
            "Before oversampling:\n",
            "label\n",
            "life impossible    6\n",
            "life possible      2\n",
            "Name: count, dtype: int64\n",
            "\n",
            "After oversampling:\n",
            "label\n",
            "life impossible    6\n",
            "life possible      6\n",
            "Name: count, dtype: int64\n",
            "\n",
            "Classification report:\n",
            "                 precision    recall  f1-score   support\n",
            "\n",
            "life impossible       1.00      1.00      1.00         1\n",
            "  life possible       1.00      1.00      1.00         1\n",
            "\n",
            "       accuracy                           1.00         2\n",
            "      macro avg       1.00      1.00      1.00         2\n",
            "   weighted avg       1.00      1.00      1.00         2\n",
            "\n"
          ]
        }
      ]
    }
  ]
}